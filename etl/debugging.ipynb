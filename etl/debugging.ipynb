{
 "cells": [
  {
   "cell_type": "code",
   "execution_count": 1,
   "id": "2639a122",
   "metadata": {},
   "outputs": [],
   "source": [
    "from tqdm import tqdm\n",
    "import requests\n",
    "from bs4 import BeautifulSoup\n",
    "import json"
   ]
  },
  {
   "cell_type": "code",
   "execution_count": 2,
   "id": "b1e51337",
   "metadata": {},
   "outputs": [],
   "source": [
    "url = 'https://gamesdb.launchbox-app.com/games/details/117711'\n",
    "#url = 'https://gamesdb.launchbox-app.com/games/details/105642'\n",
    "\n",
    "page = requests.get(url)\n",
    "soup = BeautifulSoup(page.content,'html.parser')\n",
    "content = soup.find('body').find_all('div','container')[2].find('form').find('table').find_all('tr')"
   ]
  },
  {
   "cell_type": "code",
   "execution_count": 3,
   "id": "4f8c0d09",
   "metadata": {},
   "outputs": [
    {
     "data": {
      "text/plain": [
       "<tr>\n",
       "<td class=\"row-header\">Name</td>\n",
       "<td>\n",
       "<a class=\"edit-link\" href=\"javascript:\"><span class=\"fa fa-pencil\"></span></a>\n",
       "<span class=\"view\">&gt;observer_</span>\n",
       "<div class=\"edit\">\n",
       "<input class=\"form-control\" name=\"name\" type=\"text\" value=\"&gt;observer_\"/>\n",
       "</div>\n",
       "</td>\n",
       "</tr>"
      ]
     },
     "execution_count": 3,
     "metadata": {},
     "output_type": "execute_result"
    }
   ],
   "source": [
    "content[0]"
   ]
  },
  {
   "cell_type": "code",
   "execution_count": 4,
   "id": "e1d1f718",
   "metadata": {},
   "outputs": [],
   "source": [
    "c = 0\n",
    "if content[1].find('td','row-header').text == 'Alternate Name':\n",
    "    content.pop(1)\n",
    "    content.pop(1)\n",
    "    content.pop(1)\n",
    "    content.pop(1)\n",
    "\n",
    "if content[1].find('td','row-header').text == 'Add Alternate Name':\n",
    "    content.pop(1)\n",
    "    content.pop(1)\n",
    "    content.pop(1)\n",
    "    content.pop(1)"
   ]
  },
  {
   "cell_type": "code",
   "execution_count": null,
   "id": "3386363c",
   "metadata": {},
   "outputs": [],
   "source": []
  }
 ],
 "metadata": {
  "kernelspec": {
   "display_name": "Python 3",
   "language": "python",
   "name": "python3"
  },
  "language_info": {
   "codemirror_mode": {
    "name": "ipython",
    "version": 3
   },
   "file_extension": ".py",
   "mimetype": "text/x-python",
   "name": "python",
   "nbconvert_exporter": "python",
   "pygments_lexer": "ipython3",
   "version": "3.7.4"
  }
 },
 "nbformat": 4,
 "nbformat_minor": 5
}
