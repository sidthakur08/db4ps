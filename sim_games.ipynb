{
 "cells": [
  {
   "cell_type": "code",
   "execution_count": 1,
   "id": "25a3423f",
   "metadata": {},
   "outputs": [
    {
     "name": "stdout",
     "output_type": "stream",
     "text": [
      "Python 3.7.4\n"
     ]
    }
   ],
   "source": [
    "!python --version"
   ]
  },
  {
   "cell_type": "code",
   "execution_count": 2,
   "id": "4ecaac93",
   "metadata": {},
   "outputs": [
    {
     "name": "stderr",
     "output_type": "stream",
     "text": [
      "c:\\users\\siddh\\appdata\\local\\programs\\python\\python37\\lib\\site-packages\\gensim\\similarities\\__init__.py:15: UserWarning: The gensim.similarities.levenshtein submodule is disabled, because the optional Levenshtein package <https://pypi.org/project/python-Levenshtein/> is unavailable. Install Levenhstein (e.g. `pip install python-Levenshtein`) to suppress this warning.\n",
      "  warnings.warn(msg)\n"
     ]
    }
   ],
   "source": [
    "import json\n",
    "import numpy as np\n",
    "from tqdm import tqdm\n",
    "\n",
    "import nltk\n",
    "from nltk.tokenize import regexp_tokenize\n",
    "from nltk.corpus import stopwords\n",
    "from nltk.stem import WordNetLemmatizer\n",
    "import string\n",
    "import re\n",
    "\n",
    "from gensim.models import KeyedVectors\n",
    "from scipy import spatial"
   ]
  },
  {
   "cell_type": "code",
   "execution_count": 3,
   "id": "d6a2ddb6",
   "metadata": {},
   "outputs": [
    {
     "name": "stderr",
     "output_type": "stream",
     "text": [
      "[nltk_data] Downloading package wordnet to\n",
      "[nltk_data]     C:\\Users\\siddh\\AppData\\Roaming\\nltk_data...\n",
      "[nltk_data]   Package wordnet is already up-to-date!\n",
      "[nltk_data] Downloading package stopwords to\n",
      "[nltk_data]     C:\\Users\\siddh\\AppData\\Roaming\\nltk_data...\n",
      "[nltk_data]   Package stopwords is already up-to-date!\n"
     ]
    },
    {
     "data": {
      "text/plain": [
       "True"
      ]
     },
     "execution_count": 3,
     "metadata": {},
     "output_type": "execute_result"
    }
   ],
   "source": [
    "nltk.download('wordnet')\n",
    "nltk.download('stopwords')"
   ]
  },
  {
   "cell_type": "code",
   "execution_count": 4,
   "id": "4044cc55",
   "metadata": {},
   "outputs": [],
   "source": [
    "with open('gamestop/games.txt','r') as f:\n",
    "    l = json.load(f)"
   ]
  },
  {
   "cell_type": "code",
   "execution_count": 5,
   "id": "74ec4398",
   "metadata": {},
   "outputs": [
    {
     "data": {
      "text/plain": [
       "1049"
      ]
     },
     "execution_count": 5,
     "metadata": {},
     "output_type": "execute_result"
    }
   ],
   "source": [
    "len(l)"
   ]
  },
  {
   "cell_type": "code",
   "execution_count": 6,
   "id": "8436af75",
   "metadata": {},
   "outputs": [],
   "source": [
    "stopwords_eng = stopwords.words('english')\n",
    "lemmatizer = WordNetLemmatizer()\n",
    "\n",
    "def process_text(text):\n",
    "    text = text.replace(\"\\n\",\" \").replace(\"\\r\",\" \")\n",
    "    text = re.sub(r'“', \" '' \", text)\n",
    "    text = re.sub(r'”', \" '' \", text)\n",
    "    text = re.sub(r'\"', \" '' \", text)\n",
    "    text = re.sub(r'(\\S)(\\'\\')', r'\\1 \\2 ', text)\n",
    "    \n",
    "    punc_list = '!\"#$%()*+,-./:;<=>?@^_{|}~'\n",
    "    t = str.maketrans(dict.fromkeys(punc_list,\" \"))\n",
    "    text = text.translate(t)\n",
    "    \n",
    "    t = str.maketrans(dict.fromkeys(\"'`\",\"\"))\n",
    "    text = text.translate(t)\n",
    "    \n",
    "    tokens = regexp_tokenize(text,pattern='\\s+',gaps=True)\n",
    "    cleaned_tokens = []\n",
    "    \n",
    "    for t in tokens:\n",
    "        if t not in stopwords_eng:\n",
    "            l = lemmatizer.lemmatize(t)\n",
    "            cleaned_tokens.append(l)\n",
    "    \n",
    "    return cleaned_tokens"
   ]
  },
  {
   "cell_type": "code",
   "execution_count": 7,
   "id": "9d02deb9",
   "metadata": {},
   "outputs": [
    {
     "data": {
      "text/plain": [
       "['Immerse', 'The', 'World', 'MMORPG', 'find']"
      ]
     },
     "execution_count": 7,
     "metadata": {},
     "output_type": "execute_result"
    }
   ],
   "source": [
    "process_text('Immerse yourself in “The World,” a MMORPG, and find out')"
   ]
  },
  {
   "cell_type": "code",
   "execution_count": 8,
   "id": "c4486101",
   "metadata": {},
   "outputs": [
    {
     "name": "stdout",
     "output_type": "stream",
     "text": [
      "114 µs ± 5.53 µs per loop (mean ± std. dev. of 7 runs, 10000 loops each)\n"
     ]
    }
   ],
   "source": [
    "%timeit process_text(\"Technology News | afr.com Business backs Malcolm Turnbull's 'fresh' look at reform | afr.com\")"
   ]
  },
  {
   "cell_type": "code",
   "execution_count": 9,
   "id": "186b7865",
   "metadata": {},
   "outputs": [],
   "source": [
    "model = KeyedVectors.load_word2vec_format(\"GoogleNews-vectors-negative300.bin\",binary=True)"
   ]
  },
  {
   "cell_type": "code",
   "execution_count": 10,
   "id": "433658e2",
   "metadata": {},
   "outputs": [],
   "source": [
    "def get_vec(word):\n",
    "    try:\n",
    "        return model[word]\n",
    "    except:\n",
    "        try:\n",
    "            return model[int(word)]\n",
    "        except:\n",
    "            return np.zeros(300)"
   ]
  },
  {
   "cell_type": "code",
   "execution_count": 11,
   "id": "5d7284f4",
   "metadata": {
    "scrolled": true
   },
   "outputs": [
    {
     "name": "stderr",
     "output_type": "stream",
     "text": [
      "100%|████████████████████████████████████████████████████████████████████████████████████████████████████████████████████| 1049/1049 [00:01<00:00, 896.45it/s]\n"
     ]
    }
   ],
   "source": [
    "# we need name,genres,overview\n",
    "\n",
    "game_vector = {}\n",
    "for i in tqdm(l):\n",
    "    text = i['Name'] + i['Genres'] + i['Overview']\n",
    "    tokens = process_text(text)\n",
    "    try:\n",
    "        vector = sum([get_vec(t) for t in tokens]).tolist()\n",
    "\n",
    "        game_vector[i['Name']] = vector\n",
    "    except:\n",
    "        game_vector[i['Name']] = np.zeros(300)\n",
    "        \n",
    "with open('gamestop/game_vector.txt','w') as f:\n",
    "    json.dump(game_vector,f)"
   ]
  },
  {
   "cell_type": "code",
   "execution_count": 12,
   "id": "170c1ba4",
   "metadata": {},
   "outputs": [],
   "source": [
    "def get_sim(a,b):\n",
    "    return 1-spatial.distance.cosine(game_vector[a],game_vector[b])\n",
    "\n",
    "def get_5_sim(to_search):\n",
    "    sim_measure = []\n",
    "    for i in game_vector.keys():\n",
    "        try:\n",
    "            sim_measure.append(get_sim(to_search,i))\n",
    "        except:\n",
    "            sim_measure.append(0)\n",
    "    sorted_sim_measure = np.argsort(sim_measure)[-6:-1][::-1]\n",
    "    sim_games = [(l[s]['Name'],sim_measure[s]) for s in sorted_sim_measure]\n",
    "    return sim_games"
   ]
  },
  {
   "cell_type": "code",
   "execution_count": 13,
   "id": "995277b5",
   "metadata": {},
   "outputs": [
    {
     "data": {
      "text/plain": [
       "[0.30756378173828125,\n",
       " 0.37005615234375,\n",
       " 2.43231201171875,\n",
       " -0.515380859375,\n",
       " -0.88629150390625,\n",
       " -0.2096710205078125,\n",
       " 1.330078125,\n",
       " -2.1842193603515625,\n",
       " 0.12841796875,\n",
       " 1.4002685546875,\n",
       " -1.5438919067382812,\n",
       " -1.0692138671875,\n",
       " 0.7731475830078125,\n",
       " -0.093994140625,\n",
       " -1.5003929138183594,\n",
       " 1.2701416015625,\n",
       " 1.2314453125,\n",
       " 1.2930908203125,\n",
       " 1.257659912109375,\n",
       " -1.141845703125,\n",
       " 1.035888671875,\n",
       " 1.6077880859375,\n",
       " -1.138671875,\n",
       " -1.59375,\n",
       " 0.8523902893066406,\n",
       " -1.0439453125,\n",
       " -0.6619873046875,\n",
       " 0.7646045684814453,\n",
       " 2.3759765625,\n",
       " 0.252685546875,\n",
       " -0.76611328125,\n",
       " -0.194091796875,\n",
       " -0.605560302734375,\n",
       " -0.31414794921875,\n",
       " -0.139404296875,\n",
       " -0.7406005859375,\n",
       " -0.0789794921875,\n",
       " -0.6356201171875,\n",
       " 1.0743408203125,\n",
       " 1.810882568359375,\n",
       " 1.68878173828125,\n",
       " -0.811767578125,\n",
       " 0.7783279418945312,\n",
       " 1.646728515625,\n",
       " 0.44989013671875,\n",
       " -1.635986328125,\n",
       " 0.47576904296875,\n",
       " -0.5446624755859375,\n",
       " 1.053955078125,\n",
       " 2.159423828125,\n",
       " -0.58477783203125,\n",
       " 1.4757080078125,\n",
       " 0.24676513671875,\n",
       " -1.198486328125,\n",
       " 0.98773193359375,\n",
       " 0.6941318511962891,\n",
       " 0.20068359375,\n",
       " -1.3792724609375,\n",
       " -0.66986083984375,\n",
       " -0.9857177734375,\n",
       " -1.34857177734375,\n",
       " 0.5079345703125,\n",
       " -0.4595947265625,\n",
       " -0.72125244140625,\n",
       " -0.80926513671875,\n",
       " -0.384521484375,\n",
       " -0.016357421875,\n",
       " 1.3399658203125,\n",
       " 1.4164581298828125,\n",
       " 1.2923583984375,\n",
       " -0.87127685546875,\n",
       " 1.243408203125,\n",
       " 0.325439453125,\n",
       " 0.0845947265625,\n",
       " -0.6939315795898438,\n",
       " -0.762451171875,\n",
       " 2.0175743103027344,\n",
       " 0.6297607421875,\n",
       " 1.6511573791503906,\n",
       " 0.035400390625,\n",
       " 0.1847076416015625,\n",
       " -1.4835243225097656,\n",
       " 0.74237060546875,\n",
       " 0.31463623046875,\n",
       " 1.09295654296875,\n",
       " -2.294219970703125,\n",
       " -0.9914703369140625,\n",
       " 2.1473388671875,\n",
       " -0.0365753173828125,\n",
       " 1.7347412109375,\n",
       " 0.966064453125,\n",
       " 0.964111328125,\n",
       " -1.78515625,\n",
       " -0.9034900665283203,\n",
       " 0.427642822265625,\n",
       " 0.036590576171875,\n",
       " 0.0706787109375,\n",
       " 0.6051025390625,\n",
       " 1.2746505737304688,\n",
       " 0.4913330078125,\n",
       " 0.255126953125,\n",
       " 0.0308837890625,\n",
       " 0.60302734375,\n",
       " 0.149444580078125,\n",
       " -1.240478515625,\n",
       " 0.163604736328125,\n",
       " 0.98590087890625,\n",
       " -0.5792312622070312,\n",
       " -0.2220458984375,\n",
       " -1.7988433837890625,\n",
       " 0.871337890625,\n",
       " 0.97113037109375,\n",
       " 0.48095703125,\n",
       " 0.073486328125,\n",
       " 2.376708984375,\n",
       " 0.829345703125,\n",
       " -0.43474578857421875,\n",
       " 0.206451416015625,\n",
       " 1.3746490478515625,\n",
       " 0.24169921875,\n",
       " -2.8696670532226562,\n",
       " -2.0604248046875,\n",
       " -1.0672607421875,\n",
       " 1.4725341796875,\n",
       " -0.15679931640625,\n",
       " -0.81005859375,\n",
       " -1.07843017578125,\n",
       " 0.5692138671875,\n",
       " -0.7900390625,\n",
       " -0.6986312866210938,\n",
       " 0.1641693115234375,\n",
       " 0.1455078125,\n",
       " -2.715850830078125,\n",
       " -1.81817626953125,\n",
       " 0.349853515625,\n",
       " -0.657379150390625,\n",
       " -0.7183837890625,\n",
       " 0.758697509765625,\n",
       " -1.469970703125,\n",
       " -0.4659423828125,\n",
       " 0.9106216430664062,\n",
       " -0.69110107421875,\n",
       " 0.896728515625,\n",
       " 1.0679931640625,\n",
       " -0.44781494140625,\n",
       " 0.85748291015625,\n",
       " 1.93316650390625,\n",
       " -1.1550064086914062,\n",
       " -0.9179306030273438,\n",
       " 0.4866943359375,\n",
       " 0.39093017578125,\n",
       " 1.0477428436279297,\n",
       " -1.123260498046875,\n",
       " 1.084320068359375,\n",
       " -0.5944061279296875,\n",
       " -0.7147598266601562,\n",
       " 0.1031494140625,\n",
       " -2.490753173828125,\n",
       " -1.732421875,\n",
       " -0.60205078125,\n",
       " -0.1568603515625,\n",
       " 0.836761474609375,\n",
       " 1.300994873046875,\n",
       " 0.08599853515625,\n",
       " -0.8807373046875,\n",
       " -1.0179443359375,\n",
       " 0.33477783203125,\n",
       " -0.15203857421875,\n",
       " -0.298095703125,\n",
       " 1.5523681640625,\n",
       " -1.258544921875,\n",
       " -0.66741943359375,\n",
       " 0.40545654296875,\n",
       " -2.4979934692382812,\n",
       " -0.1894378662109375,\n",
       " -0.117340087890625,\n",
       " 0.3246917724609375,\n",
       " -1.45513916015625,\n",
       " -0.565216064453125,\n",
       " -0.14703369140625,\n",
       " -0.22705078125,\n",
       " -1.7535400390625,\n",
       " 1.1898193359375,\n",
       " -0.8289794921875,\n",
       " 0.05609130859375,\n",
       " 0.44378662109375,\n",
       " -0.30731201171875,\n",
       " 0.704254150390625,\n",
       " 0.729736328125,\n",
       " -0.35498046875,\n",
       " 0.289825439453125,\n",
       " 0.9898796081542969,\n",
       " 0.28887939453125,\n",
       " -1.042877197265625,\n",
       " -0.63568115234375,\n",
       " 0.2509765625,\n",
       " -0.15289306640625,\n",
       " 0.173583984375,\n",
       " -1.71588134765625,\n",
       " -4.260650634765625,\n",
       " 0.681365966796875,\n",
       " 1.471923828125,\n",
       " -0.630126953125,\n",
       " -0.849639892578125,\n",
       " 0.1456298828125,\n",
       " -0.990509033203125,\n",
       " 1.16607666015625,\n",
       " -0.56988525390625,\n",
       " -0.46490478515625,\n",
       " -0.0029296875,\n",
       " -0.78369140625,\n",
       " 1.2393798828125,\n",
       " 0.6097412109375,\n",
       " 2.7080841064453125,\n",
       " -1.500518798828125,\n",
       " -0.2275390625,\n",
       " 0.1849365234375,\n",
       " 0.533935546875,\n",
       " -1.9271774291992188,\n",
       " -0.84246826171875,\n",
       " -0.23629140853881836,\n",
       " -0.5218963623046875,\n",
       " 0.45867919921875,\n",
       " -0.509765625,\n",
       " 0.35235595703125,\n",
       " 2.28948974609375,\n",
       " 0.7249069213867188,\n",
       " 1.27667236328125,\n",
       " 2.0709686279296875,\n",
       " -1.8986968994140625,\n",
       " 0.28729248046875,\n",
       " 0.7768707275390625,\n",
       " 0.397705078125,\n",
       " -0.46826171875,\n",
       " 0.7041015625,\n",
       " -0.807861328125,\n",
       " 0.180511474609375,\n",
       " -0.7177734375,\n",
       " 0.3785400390625,\n",
       " -0.9365234375,\n",
       " 0.427581787109375,\n",
       " -2.54791259765625,\n",
       " 0.5019683837890625,\n",
       " -3.4658203125,\n",
       " -0.63690185546875,\n",
       " 1.0497589111328125,\n",
       " -1.5716886520385742,\n",
       " 0.8059310913085938,\n",
       " -0.92138671875,\n",
       " 0.12192726135253906,\n",
       " 0.79107666015625,\n",
       " 1.834716796875,\n",
       " 0.35223388671875,\n",
       " 2.2291259765625,\n",
       " 0.492919921875,\n",
       " -1.21112060546875,\n",
       " -0.23351669311523438,\n",
       " -1.74822998046875,\n",
       " -0.807464599609375,\n",
       " -0.328277587890625,\n",
       " 0.639892578125,\n",
       " -0.618408203125,\n",
       " 1.7147140502929688,\n",
       " 1.2511825561523438,\n",
       " 0.8880615234375,\n",
       " 1.27777099609375,\n",
       " -1.94384765625,\n",
       " -0.697265625,\n",
       " -1.7829017639160156,\n",
       " 0.51043701171875,\n",
       " -0.5679855346679688,\n",
       " 2.889404296875,\n",
       " -0.849609375,\n",
       " -1.2921142578125,\n",
       " 0.921844482421875,\n",
       " -0.9001312255859375,\n",
       " -1.4998779296875,\n",
       " -0.8399658203125,\n",
       " -0.29718017578125,\n",
       " 0.41455078125,\n",
       " -0.1488037109375,\n",
       " -1.0237197875976562,\n",
       " 0.95965576171875,\n",
       " 0.4423828125,\n",
       " 1.0672607421875,\n",
       " 0.554718017578125,\n",
       " -1.6817626953125,\n",
       " -0.9127120971679688,\n",
       " 0.97802734375,\n",
       " 1.2967681884765625,\n",
       " -1.2313194274902344,\n",
       " 0.18157958984375,\n",
       " -1.4871826171875,\n",
       " -0.3204345703125,\n",
       " 0.01708984375,\n",
       " 0.4633331298828125,\n",
       " 0.41546630859375,\n",
       " -0.35968017578125,\n",
       " -0.73193359375,\n",
       " -0.72021484375]"
      ]
     },
     "execution_count": 13,
     "metadata": {},
     "output_type": "execute_result"
    }
   ],
   "source": [
    "game_vector['FIFA 18']"
   ]
  },
  {
   "cell_type": "code",
   "execution_count": 14,
   "id": "0dfbce71",
   "metadata": {},
   "outputs": [
    {
     "data": {
      "text/plain": [
       "[('Need for Speed: Rivals', 0.7932066089120169),\n",
       " ('FIFA 17', 0.7908166863032599),\n",
       " ('FIFA 20', 0.7853443712550131),\n",
       " ('FIFA 15', 0.7814971174335752),\n",
       " ('FIFA 16', 0.7799982012665069)]"
      ]
     },
     "execution_count": 14,
     "metadata": {},
     "output_type": "execute_result"
    }
   ],
   "source": [
    "g = get_5_sim('FIFA 18')\n",
    "g"
   ]
  },
  {
   "cell_type": "code",
   "execution_count": 15,
   "id": "8b9027dd",
   "metadata": {},
   "outputs": [
    {
     "data": {
      "text/plain": [
       "[(\"The Witcher 3: Wild Hunt Collector's Edition\", 0.8499542475722576),\n",
       " ('For Honor', 0.8394135023040565),\n",
       " ('Call of Duty 4: Modern Warfare Remastered', 0.8328136231669478),\n",
       " ('Cyberpunk 2077', 0.8286820375723332),\n",
       " ('Call of Duty: Black Ops IIII', 0.8282971809729374)]"
      ]
     },
     "execution_count": 15,
     "metadata": {},
     "output_type": "execute_result"
    }
   ],
   "source": [
    "g = get_5_sim('Call of Duty: WWII')\n",
    "g"
   ]
  },
  {
   "cell_type": "code",
   "execution_count": 16,
   "id": "f4629e47",
   "metadata": {},
   "outputs": [
    {
     "data": {
      "text/plain": [
       "[(\"Assassin's Creed: Odyssey\", 0.9136923208047454),\n",
       " ('Days Gone', 0.9099964073663812),\n",
       " ('Bullet Girls Phantasia', 0.8876354161516203),\n",
       " (\"Don't Starve\", 0.8873280244616404),\n",
       " (\"Assassin's Creed Chronicles: Russia\", 0.8871161420867303)]"
      ]
     },
     "execution_count": 16,
     "metadata": {},
     "output_type": "execute_result"
    }
   ],
   "source": [
    "g = get_5_sim('Far Cry Primal')\n",
    "g"
   ]
  },
  {
   "cell_type": "markdown",
   "id": "3f38f333",
   "metadata": {},
   "source": [
    "Maybe we can use it as an api call for the front end? or just return an output. We can save game_vector in a file for smoother processing."
   ]
  },
  {
   "cell_type": "code",
   "execution_count": 19,
   "id": "70adb4f9",
   "metadata": {},
   "outputs": [
    {
     "data": {
      "text/plain": [
       "\"Assassin's Creed: Odyssey\""
      ]
     },
     "execution_count": 19,
     "metadata": {},
     "output_type": "execute_result"
    }
   ],
   "source": [
    "g[0][0]"
   ]
  },
  {
   "cell_type": "code",
   "execution_count": null,
   "id": "0cc13a5b",
   "metadata": {},
   "outputs": [],
   "source": []
  }
 ],
 "metadata": {
  "kernelspec": {
   "display_name": "Python 3",
   "language": "python",
   "name": "python3"
  },
  "language_info": {
   "codemirror_mode": {
    "name": "ipython",
    "version": 3
   },
   "file_extension": ".py",
   "mimetype": "text/x-python",
   "name": "python",
   "nbconvert_exporter": "python",
   "pygments_lexer": "ipython3",
   "version": "3.7.4"
  }
 },
 "nbformat": 4,
 "nbformat_minor": 5
}
