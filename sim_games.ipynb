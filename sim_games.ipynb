{
 "cells": [
  {
   "cell_type": "code",
   "execution_count": 1,
   "id": "25a3423f",
   "metadata": {},
   "outputs": [
    {
     "name": "stdout",
     "output_type": "stream",
     "text": [
      "Python 3.7.4\n"
     ]
    }
   ],
   "source": [
    "!python --version"
   ]
  },
  {
   "cell_type": "code",
   "execution_count": 2,
   "id": "4ecaac93",
   "metadata": {},
   "outputs": [
    {
     "name": "stderr",
     "output_type": "stream",
     "text": [
      "c:\\users\\siddh\\appdata\\local\\programs\\python\\python37\\lib\\site-packages\\gensim\\similarities\\__init__.py:15: UserWarning: The gensim.similarities.levenshtein submodule is disabled, because the optional Levenshtein package <https://pypi.org/project/python-Levenshtein/> is unavailable. Install Levenhstein (e.g. `pip install python-Levenshtein`) to suppress this warning.\n",
      "  warnings.warn(msg)\n"
     ]
    }
   ],
   "source": [
    "import json\n",
    "import numpy as np\n",
    "from tqdm import tqdm\n",
    "\n",
    "import nltk\n",
    "from nltk.tokenize import regexp_tokenize\n",
    "from nltk.corpus import stopwords\n",
    "from nltk.stem import WordNetLemmatizer\n",
    "import string\n",
    "import re\n",
    "\n",
    "from gensim.models import KeyedVectors\n",
    "from scipy import spatial"
   ]
  },
  {
   "cell_type": "code",
   "execution_count": 3,
   "id": "d6a2ddb6",
   "metadata": {},
   "outputs": [
    {
     "name": "stderr",
     "output_type": "stream",
     "text": [
      "[nltk_data] Downloading package wordnet to\n",
      "[nltk_data]     C:\\Users\\siddh\\AppData\\Roaming\\nltk_data...\n",
      "[nltk_data]   Package wordnet is already up-to-date!\n",
      "[nltk_data] Downloading package stopwords to\n",
      "[nltk_data]     C:\\Users\\siddh\\AppData\\Roaming\\nltk_data...\n",
      "[nltk_data]   Package stopwords is already up-to-date!\n"
     ]
    },
    {
     "data": {
      "text/plain": [
       "True"
      ]
     },
     "execution_count": 3,
     "metadata": {},
     "output_type": "execute_result"
    }
   ],
   "source": [
    "nltk.download('wordnet')\n",
    "nltk.download('stopwords')"
   ]
  },
  {
   "cell_type": "code",
   "execution_count": 4,
   "id": "4044cc55",
   "metadata": {},
   "outputs": [],
   "source": [
    "with open('games.txt','r') as f:\n",
    "    l = json.load(f)"
   ]
  },
  {
   "cell_type": "code",
   "execution_count": 5,
   "id": "74ec4398",
   "metadata": {},
   "outputs": [
    {
     "data": {
      "text/plain": [
       "1049"
      ]
     },
     "execution_count": 5,
     "metadata": {},
     "output_type": "execute_result"
    }
   ],
   "source": [
    "len(l)"
   ]
  },
  {
   "cell_type": "code",
   "execution_count": 6,
   "id": "8436af75",
   "metadata": {},
   "outputs": [],
   "source": [
    "stopwords_eng = stopwords.words('english')\n",
    "lemmatizer = WordNetLemmatizer()\n",
    "\n",
    "def process_text(text):\n",
    "    text = text.replace(\"\\n\",\" \").replace(\"\\r\",\" \")\n",
    "    text = re.sub(r'“', \" '' \", text)\n",
    "    text = re.sub(r'”', \" '' \", text)\n",
    "    text = re.sub(r'\"', \" '' \", text)\n",
    "    text = re.sub(r'(\\S)(\\'\\')', r'\\1 \\2 ', text)\n",
    "    \n",
    "    punc_list = '!\"#$%()*+,-./:;<=>?@^_{|}~'\n",
    "    t = str.maketrans(dict.fromkeys(punc_list,\" \"))\n",
    "    text = text.translate(t)\n",
    "    \n",
    "    t = str.maketrans(dict.fromkeys(\"'`\",\"\"))\n",
    "    text = text.translate(t)\n",
    "    \n",
    "    tokens = regexp_tokenize(text,pattern='\\s+',gaps=True)\n",
    "    cleaned_tokens = []\n",
    "    \n",
    "    for t in tokens:\n",
    "        if t not in stopwords_eng:\n",
    "            l = lemmatizer.lemmatize(t)\n",
    "            cleaned_tokens.append(l)\n",
    "    \n",
    "    return cleaned_tokens"
   ]
  },
  {
   "cell_type": "code",
   "execution_count": 7,
   "id": "9d02deb9",
   "metadata": {},
   "outputs": [
    {
     "data": {
      "text/plain": [
       "['Immerse', 'The', 'World', 'MMORPG', 'find']"
      ]
     },
     "execution_count": 7,
     "metadata": {},
     "output_type": "execute_result"
    }
   ],
   "source": [
    "process_text('Immerse yourself in “The World,” a MMORPG, and find out')"
   ]
  },
  {
   "cell_type": "code",
   "execution_count": 8,
   "id": "c4486101",
   "metadata": {},
   "outputs": [
    {
     "name": "stdout",
     "output_type": "stream",
     "text": [
      "102 µs ± 1.93 µs per loop (mean ± std. dev. of 7 runs, 10000 loops each)\n"
     ]
    }
   ],
   "source": [
    "%timeit process_text(\"Technology News | afr.com Business backs Malcolm Turnbull's 'fresh' look at reform | afr.com\")"
   ]
  },
  {
   "cell_type": "code",
   "execution_count": 9,
   "id": "186b7865",
   "metadata": {},
   "outputs": [],
   "source": [
    "model = KeyedVectors.load_word2vec_format(\"GoogleNews-vectors-negative300.bin\",binary=True)"
   ]
  },
  {
   "cell_type": "code",
   "execution_count": 10,
   "id": "433658e2",
   "metadata": {},
   "outputs": [],
   "source": [
    "def get_vec(word):\n",
    "    try:\n",
    "        return model[word]\n",
    "    except:\n",
    "        try:\n",
    "            return model[int(word)]\n",
    "        except:\n",
    "            return np.zeros(300)"
   ]
  },
  {
   "cell_type": "code",
   "execution_count": 11,
   "id": "5d7284f4",
   "metadata": {},
   "outputs": [
    {
     "name": "stderr",
     "output_type": "stream",
     "text": [
      "100%|███████████████████████████████████████████████████████████████████| 1049/1049 [00:01<00:00, 913.83it/s]\n"
     ]
    }
   ],
   "source": [
    "# we need name,genres,overview\n",
    "\n",
    "game_vector = {}\n",
    "for i in tqdm(l):\n",
    "    text = i['Name'] + i['Genres'] + i['Overview']\n",
    "    tokens = process_text(text)\n",
    "    try:\n",
    "        vector = sum([get_vec(t) for t in tokens]).tolist()\n",
    "\n",
    "        game_vector[i['Name']] = vector\n",
    "    except:\n",
    "        game_vector[i['Name']] = np.zeros(300)"
   ]
  },
  {
   "cell_type": "code",
   "execution_count": 12,
   "id": "170c1ba4",
   "metadata": {},
   "outputs": [],
   "source": [
    "def get_sim(a,b):\n",
    "    return 1-spatial.distance.cosine(game_vector[a],game_vector[b])\n",
    "\n",
    "def get_5_sim(to_search):\n",
    "    sim_measure = []\n",
    "    for i in game_vector.keys():\n",
    "        try:\n",
    "            sim_measure.append(get_sim(to_search,i))\n",
    "        except:\n",
    "            sim_measure.append(0)\n",
    "    sorted_sim_measure = np.argsort(sim_measure)[-6:-1][::-1]\n",
    "    sim_games = [(l[s]['Name'],sim_measure[s]) for s in sorted_sim_measure]\n",
    "    return sim_games"
   ]
  },
  {
   "cell_type": "code",
   "execution_count": 13,
   "id": "0dfbce71",
   "metadata": {},
   "outputs": [
    {
     "data": {
      "text/plain": [
       "[('Need for Speed: Rivals', 0.7932066089120169),\n",
       " ('FIFA 17', 0.7908166863032599),\n",
       " ('FIFA 20', 0.7853443712550131),\n",
       " ('FIFA 15', 0.7814971174335752),\n",
       " ('FIFA 16', 0.7799982012665069)]"
      ]
     },
     "execution_count": 13,
     "metadata": {},
     "output_type": "execute_result"
    }
   ],
   "source": [
    "g = get_5_sim('FIFA 18')\n",
    "g"
   ]
  },
  {
   "cell_type": "code",
   "execution_count": 14,
   "id": "8b9027dd",
   "metadata": {},
   "outputs": [
    {
     "data": {
      "text/plain": [
       "[(\"The Witcher 3: Wild Hunt Collector's Edition\", 0.8499542475722576),\n",
       " ('For Honor', 0.8394135023040565),\n",
       " ('Call of Duty 4: Modern Warfare Remastered', 0.8328136231669478),\n",
       " ('Cyberpunk 2077', 0.8286820375723332),\n",
       " ('Call of Duty: Black Ops IIII', 0.8282971809729374)]"
      ]
     },
     "execution_count": 14,
     "metadata": {},
     "output_type": "execute_result"
    }
   ],
   "source": [
    "g = get_5_sim('Call of Duty: WWII')\n",
    "g"
   ]
  },
  {
   "cell_type": "code",
   "execution_count": 15,
   "id": "f4629e47",
   "metadata": {},
   "outputs": [
    {
     "data": {
      "text/plain": [
       "[(\"Assassin's Creed: Odyssey\", 0.9136923208047454),\n",
       " ('Days Gone', 0.9099964073663812),\n",
       " ('Bullet Girls Phantasia', 0.8876354161516203),\n",
       " (\"Don't Starve\", 0.8873280244616404),\n",
       " (\"Assassin's Creed Chronicles: Russia\", 0.8871161420867303)]"
      ]
     },
     "execution_count": 15,
     "metadata": {},
     "output_type": "execute_result"
    }
   ],
   "source": [
    "g = get_5_sim('Far Cry Primal')\n",
    "g"
   ]
  },
  {
   "cell_type": "markdown",
   "id": "3f38f333",
   "metadata": {},
   "source": [
    "Maybe we can use it as an api call for the front end? or just return an output. We can save game_vector in a file for smoother processing."
   ]
  }
 ],
 "metadata": {
  "kernelspec": {
   "display_name": "Python 3",
   "language": "python",
   "name": "python3"
  },
  "language_info": {
   "codemirror_mode": {
    "name": "ipython",
    "version": 3
   },
   "file_extension": ".py",
   "mimetype": "text/x-python",
   "name": "python",
   "nbconvert_exporter": "python",
   "pygments_lexer": "ipython3",
   "version": "3.7.4"
  }
 },
 "nbformat": 4,
 "nbformat_minor": 5
}
